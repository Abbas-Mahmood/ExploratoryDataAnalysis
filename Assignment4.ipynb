{
 "cells": [
  {
   "cell_type": "markdown",
   "metadata": {
    "deletable": false,
    "editable": false,
    "nbgrader": {
     "cell_type": "markdown",
     "checksum": "558ccd29af0299534f6c04536c346adf",
     "grade": false,
     "grade_id": "cell-79af87de70961bfb",
     "locked": true,
     "schema_version": 3,
     "solution": false,
     "task": false
    }
   },
   "source": [
    "# Assignment 4\n",
    "\n",
    "This assignment is all about creating, updating, and querying relational databases using SQL, and in particular, the Python module **sqlite3**"
   ]
  },
  {
   "cell_type": "code",
   "execution_count": 44,
   "metadata": {},
   "outputs": [],
   "source": [
    "import sqlite3"
   ]
  },
  {
   "cell_type": "markdown",
   "metadata": {
    "deletable": false,
    "editable": false,
    "nbgrader": {
     "cell_type": "markdown",
     "checksum": "70323cd826f2365ad1f1a01b5fab00ed",
     "grade": false,
     "grade_id": "cell-b07ab1ad6167eb96",
     "locked": true,
     "schema_version": 3,
     "solution": false,
     "task": false
    }
   },
   "source": [
    "# Question 1 (4 marks)"
   ]
  },
  {
   "cell_type": "markdown",
   "metadata": {},
   "source": [
    "### Q1.a (1 mark)\n",
    "\n",
    "Create a new database called \"marks.db\".  The database will contain the marks got by a cohort of students in a set of modules."
   ]
  },
  {
   "cell_type": "code",
   "execution_count": 10,
   "metadata": {
    "deletable": false,
    "nbgrader": {
     "cell_type": "code",
     "checksum": "9e6e580e299f4da60feaf16ae52ef8c1",
     "grade": true,
     "grade_id": "cell-1186d85ce764c321",
     "locked": false,
     "points": 1,
     "schema_version": 3,
     "solution": true,
     "task": false
    }
   },
   "outputs": [],
   "source": [
    "conn = sqlite3.connect('marks.db')"
   ]
  },
  {
   "cell_type": "markdown",
   "metadata": {
    "deletable": false,
    "editable": false,
    "nbgrader": {
     "cell_type": "markdown",
     "checksum": "c6ebb91999dd31ab2e88b7f17cf43aa8",
     "grade": false,
     "grade_id": "cell-5b95bac45220c30d",
     "locked": true,
     "schema_version": 3,
     "solution": false,
     "task": false
    }
   },
   "source": [
    "### Q1.b (1 mark)\n",
    "\n",
    "Create the following three tables in the database \"marks.db\":\n",
    "\n",
    "- A table \"students\", consisting of two columns: \"student_id\", \"name\"\n",
    "- A table \"modules\", consisting of two columns: \"module_id\", \"module_name\"\n",
    "- A table \"marks\", consisting of two three columns: \"student_id\", \"module_id\", \"mark\"\n",
    "\n",
    "Please note that \"student_id\" and \"module_id\" are integer numbers, \"name\" and \"module_name\" are strings, and \"mark\" is an integer between 0 and 100.\n"
   ]
  },
  {
   "cell_type": "code",
   "execution_count": 45,
   "metadata": {
    "deletable": false,
    "nbgrader": {
     "cell_type": "code",
     "checksum": "5f509b21f05d321bb8cfe492b5e3d771",
     "grade": true,
     "grade_id": "cell-bd22a3e900ee4a16",
     "locked": false,
     "points": 1,
     "schema_version": 3,
     "solution": true,
     "task": false
    }
   },
   "outputs": [],
   "source": [
    "co = conn.cursor()\n",
    "\n",
    "co.execute('''CREATE TABLE IF NOT EXISTS students(\n",
    "    student_id integer PRIMARY KEY,\n",
    "    name text\n",
    ");''')\n",
    "\n",
    "co.execute('''CREATE TABLE IF NOT EXISTS modules(\n",
    "    module_id integer PRIMARY KEY,\n",
    "    module_name text\n",
    ");''')\n",
    "\n",
    "co.execute('''CREATE TABLE IF NOT EXISTS marks(\n",
    "    student_id integer,\n",
    "    module_id integer,\n",
    "    mark integer\n",
    ");''')\n",
    "\n",
    "conn.commit()"
   ]
  },
  {
   "cell_type": "markdown",
   "metadata": {
    "deletable": false,
    "editable": false,
    "nbgrader": {
     "cell_type": "markdown",
     "checksum": "4cefbd9447541a7e467f54ad4202f290",
     "grade": false,
     "grade_id": "cell-5ee1f0dd9911e235",
     "locked": true,
     "schema_version": 3,
     "solution": false,
     "task": false
    }
   },
   "source": [
    "### Q1.c (1 mark)\n",
    "\n",
    "Insert at least three (3) students in the \"students\" table, at least four (4) modules in the \"modules\" table, and at least ten (10) marks in the \"marks\" table, ensuring that the student_ids and module_ids are used consistently."
   ]
  },
  {
   "cell_type": "code",
   "execution_count": 46,
   "metadata": {
    "deletable": false,
    "nbgrader": {
     "cell_type": "code",
     "checksum": "40c24e75850c6f28b7cde86d105e810f",
     "grade": true,
     "grade_id": "cell-a3840ee9c107775f",
     "locked": false,
     "points": 1,
     "schema_version": 3,
     "solution": true,
     "task": false
    }
   },
   "outputs": [
    {
     "ename": "IntegrityError",
     "evalue": "UNIQUE constraint failed: students.student_id",
     "output_type": "error",
     "traceback": [
      "\u001b[0;31m---------------------------------------------------------------------------\u001b[0m",
      "\u001b[0;31mIntegrityError\u001b[0m                            Traceback (most recent call last)",
      "\u001b[0;32m<ipython-input-46-89d01c660bdd>\u001b[0m in \u001b[0;36m<module>\u001b[0;34m\u001b[0m\n\u001b[1;32m      1\u001b[0m \u001b[0;31m#Students\u001b[0m\u001b[0;34m\u001b[0m\u001b[0;34m\u001b[0m\u001b[0;34m\u001b[0m\u001b[0m\n\u001b[0;32m----> 2\u001b[0;31m \u001b[0mco\u001b[0m\u001b[0;34m.\u001b[0m\u001b[0mexecute\u001b[0m\u001b[0;34m(\u001b[0m\u001b[0;34m\"INSERT INTO students VALUES ('1','Abbas Mahmood')\"\u001b[0m\u001b[0;34m)\u001b[0m\u001b[0;34m\u001b[0m\u001b[0;34m\u001b[0m\u001b[0m\n\u001b[0m\u001b[1;32m      3\u001b[0m \u001b[0mco\u001b[0m\u001b[0;34m.\u001b[0m\u001b[0mexecute\u001b[0m\u001b[0;34m(\u001b[0m\u001b[0;34m\"INSERT INTO students VALUES ('2','Jane Joe')\"\u001b[0m\u001b[0;34m)\u001b[0m\u001b[0;34m\u001b[0m\u001b[0;34m\u001b[0m\u001b[0m\n\u001b[1;32m      4\u001b[0m \u001b[0mco\u001b[0m\u001b[0;34m.\u001b[0m\u001b[0mexecute\u001b[0m\u001b[0;34m(\u001b[0m\u001b[0;34m\"INSERT INTO students VALUES ('3','Steven Adams')\"\u001b[0m\u001b[0;34m)\u001b[0m\u001b[0;34m\u001b[0m\u001b[0;34m\u001b[0m\u001b[0m\n\u001b[1;32m      5\u001b[0m \u001b[0;34m\u001b[0m\u001b[0m\n",
      "\u001b[0;31mIntegrityError\u001b[0m: UNIQUE constraint failed: students.student_id"
     ]
    }
   ],
   "source": [
    "#Students\n",
    "co.execute(\"INSERT INTO students VALUES ('1','Abbas Mahmood')\")\n",
    "co.execute(\"INSERT INTO students VALUES ('2','Jane Joe')\")\n",
    "co.execute(\"INSERT INTO students VALUES ('3','Steven Adams')\")\n",
    "\n",
    "conn.commit()"
   ]
  },
  {
   "cell_type": "code",
   "execution_count": 47,
   "metadata": {},
   "outputs": [
    {
     "ename": "IntegrityError",
     "evalue": "UNIQUE constraint failed: modules.module_id",
     "output_type": "error",
     "traceback": [
      "\u001b[0;31m---------------------------------------------------------------------------\u001b[0m",
      "\u001b[0;31mIntegrityError\u001b[0m                            Traceback (most recent call last)",
      "\u001b[0;32m<ipython-input-47-d7d92b4f96e6>\u001b[0m in \u001b[0;36m<module>\u001b[0;34m\u001b[0m\n\u001b[1;32m      1\u001b[0m \u001b[0;31m#Modules\u001b[0m\u001b[0;34m\u001b[0m\u001b[0;34m\u001b[0m\u001b[0;34m\u001b[0m\u001b[0m\n\u001b[0;32m----> 2\u001b[0;31m \u001b[0mco\u001b[0m\u001b[0;34m.\u001b[0m\u001b[0mexecute\u001b[0m\u001b[0;34m(\u001b[0m\u001b[0;34m\"INSERT INTO modules VALUES ('765', 'Storing, Manipulating, and Visualising data')\"\u001b[0m\u001b[0;34m)\u001b[0m\u001b[0;34m\u001b[0m\u001b[0;34m\u001b[0m\u001b[0m\n\u001b[0m\u001b[1;32m      3\u001b[0m \u001b[0mco\u001b[0m\u001b[0;34m.\u001b[0m\u001b[0mexecute\u001b[0m\u001b[0;34m(\u001b[0m\u001b[0;34m\"INSERT INTO modules VALUES ('794', 'Probability and Statistics')\"\u001b[0m\u001b[0;34m)\u001b[0m\u001b[0;34m\u001b[0m\u001b[0;34m\u001b[0m\u001b[0m\n\u001b[1;32m      4\u001b[0m \u001b[0mco\u001b[0m\u001b[0;34m.\u001b[0m\u001b[0mexecute\u001b[0m\u001b[0;34m(\u001b[0m\u001b[0;34m\"INSERT INTO modules VALUES ('792', 'Financial Data Analytics')\"\u001b[0m\u001b[0;34m)\u001b[0m\u001b[0;34m\u001b[0m\u001b[0;34m\u001b[0m\u001b[0m\n\u001b[1;32m      5\u001b[0m \u001b[0mco\u001b[0m\u001b[0;34m.\u001b[0m\u001b[0mexecute\u001b[0m\u001b[0;34m(\u001b[0m\u001b[0;34m\"INSERT INTO modules VALUES ('791', 'Computational Statistics with R')\"\u001b[0m\u001b[0;34m)\u001b[0m\u001b[0;34m\u001b[0m\u001b[0;34m\u001b[0m\u001b[0m\n",
      "\u001b[0;31mIntegrityError\u001b[0m: UNIQUE constraint failed: modules.module_id"
     ]
    }
   ],
   "source": [
    "#Modules\n",
    "co.execute(\"INSERT INTO modules VALUES ('765', 'Storing, Manipulating, and Visualising data')\")\n",
    "co.execute(\"INSERT INTO modules VALUES ('794', 'Probability and Statistics')\")\n",
    "co.execute(\"INSERT INTO modules VALUES ('792', 'Financial Data Analytics')\")\n",
    "co.execute(\"INSERT INTO modules VALUES ('791', 'Computational Statistics with R')\")\n",
    "\n",
    "conn.commit()"
   ]
  },
  {
   "cell_type": "code",
   "execution_count": 351,
   "metadata": {},
   "outputs": [],
   "source": [
    "#Marks for Abbas\n",
    "co.execute(\"INSERT INTO marks VALUES ('1', '765', 100)\") #hopefully!\n",
    "co.execute(\"INSERT INTO marks VALUES ('1', '792', 68)\")\n",
    "co.execute(\"INSERT INTO marks VALUES ('1', '791', 75)\")\n",
    "co.execute(\"INSERT INTO marks VALUES ('1', '794', 58)\")\n",
    "#Marks for  Jane\n",
    "co.execute(\"INSERT INTO marks VALUES ('2', '765', 60)\")\n",
    "co.execute(\"INSERT INTO marks VALUES ('2', '792', 59)\")\n",
    "co.execute(\"INSERT INTO marks VALUES ('2', '791', 70)\")\n",
    "co.execute(\"INSERT INTO marks VALUES ('2', '794', 39)\")\n",
    "#Marks for  Steven \n",
    "co.execute(\"INSERT INTO marks VALUES ('3', '765', 65)\")\n",
    "co.execute(\"INSERT INTO marks VALUES ('3', '792', 82)\")\n",
    "co.execute(\"INSERT INTO marks VALUES ('3', '791', 67)\")\n",
    "co.execute(\"INSERT INTO marks VALUES ('3', '794', 45)\")\n",
    "\n",
    "conn.commit()"
   ]
  },
  {
   "cell_type": "markdown",
   "metadata": {
    "deletable": false,
    "editable": false,
    "nbgrader": {
     "cell_type": "markdown",
     "checksum": "65211595dd7eb3cfd56f761c1cd3b610",
     "grade": false,
     "grade_id": "cell-d9a0250a9f0d8d7d",
     "locked": true,
     "schema_version": 3,
     "solution": false,
     "task": false
    }
   },
   "source": [
    "### Q1.d (1 mark)\n",
    "\n",
    "Retrieve and print the list of all the modules you have inserted."
   ]
  },
  {
   "cell_type": "code",
   "execution_count": 51,
   "metadata": {
    "deletable": false,
    "nbgrader": {
     "cell_type": "code",
     "checksum": "7193ca116e0e5b0dd1af31dc3c35c68f",
     "grade": true,
     "grade_id": "cell-7feda6e057f72b62",
     "locked": false,
     "points": 1,
     "schema_version": 3,
     "solution": true,
     "task": false
    }
   },
   "outputs": [
    {
     "name": "stdout",
     "output_type": "stream",
     "text": [
      "[(765, 'Storing, Manipulating, and Visualising data'), (791, 'Computational Statistics with R'), (792, 'Financial Data Analytics'), (794, 'Probability and Statistics')]\n"
     ]
    }
   ],
   "source": [
    "co.execute('''SELECT * FROM modules''')\n",
    "print(co.fetchall())"
   ]
  },
  {
   "cell_type": "code",
   "execution_count": 52,
   "metadata": {},
   "outputs": [],
   "source": [
    "conn.close()"
   ]
  },
  {
   "cell_type": "markdown",
   "metadata": {
    "deletable": false,
    "editable": false,
    "nbgrader": {
     "cell_type": "markdown",
     "checksum": "1eb1edce8fc8a716ddd5a08f0d7db57e",
     "grade": false,
     "grade_id": "cell-4ab00b31ec4947e4",
     "locked": true,
     "schema_version": 3,
     "solution": false,
     "task": false
    }
   },
   "source": [
    "# Question 2 (6 marks)\n",
    "\n",
    "In this question, you will query an existing database, that contains information about dialogs in more than 600 movies. The database consists of six (6) tables: \n",
    "\n",
    "- movies\n",
    "- characters\n",
    "- conversations\n",
    "- lines\n",
    "- genres\n",
    "- movie_genre_linking\n",
    "\n",
    "A detailed description of the columns of each table is provided in the file \"README.txt\"."
   ]
  },
  {
   "cell_type": "markdown",
   "metadata": {
    "deletable": false,
    "editable": false,
    "nbgrader": {
     "cell_type": "markdown",
     "checksum": "0c0d81f49fd6ff70da5c23c05e2ea106",
     "grade": false,
     "grade_id": "cell-3e4aae26161634ff",
     "locked": true,
     "schema_version": 3,
     "solution": false,
     "task": false
    }
   },
   "source": [
    "### Q2.a (1 mark)\n",
    "\n",
    "Connect to the database \"movie_lines.db\"."
   ]
  },
  {
   "cell_type": "code",
   "execution_count": 53,
   "metadata": {
    "deletable": false,
    "nbgrader": {
     "cell_type": "code",
     "checksum": "401ae52df89a57b8cd94fdd12476ac71",
     "grade": true,
     "grade_id": "cell-e86f3d01f568b4e6",
     "locked": false,
     "points": 1,
     "schema_version": 3,
     "solution": true,
     "task": false
    }
   },
   "outputs": [],
   "source": [
    "conn = sqlite3.connect('movie_lines.db')"
   ]
  },
  {
   "cell_type": "markdown",
   "metadata": {
    "deletable": false,
    "editable": false,
    "nbgrader": {
     "cell_type": "markdown",
     "checksum": "65c4da8b318159ac06477d5ecb575950",
     "grade": false,
     "grade_id": "cell-787c292ba74c5dca",
     "locked": true,
     "schema_version": 3,
     "solution": false,
     "task": false
    }
   },
   "source": [
    "### Q2.b (1 mark)\n",
    "\n",
    "Retrieve and print the list of genres."
   ]
  },
  {
   "cell_type": "code",
   "execution_count": 54,
   "metadata": {
    "deletable": false,
    "nbgrader": {
     "cell_type": "code",
     "checksum": "c9a33939ef9131387b9a6c02f9d75ce0",
     "grade": true,
     "grade_id": "cell-a72baef4f32d6cac",
     "locked": false,
     "points": 1,
     "schema_version": 3,
     "solution": true,
     "task": false
    }
   },
   "outputs": [
    {
     "data": {
      "text/plain": [
       "[(1, 'family'),\n",
       " (2, 'fantasy'),\n",
       " (3, 'western'),\n",
       " (4, 'sport'),\n",
       " (5, 'biography'),\n",
       " (6, 'crime'),\n",
       " (7, 'romance'),\n",
       " (8, 'animation'),\n",
       " (9, 'music'),\n",
       " (10, 'comedy'),\n",
       " (11, 'war'),\n",
       " (12, 'sci-fi'),\n",
       " (13, 'horror'),\n",
       " (14, 'adult'),\n",
       " (15, 'thriller'),\n",
       " (16, 'mystery'),\n",
       " (17, 'short'),\n",
       " (18, 'film-noir'),\n",
       " (19, 'drama'),\n",
       " (20, 'action'),\n",
       " (21, 'history'),\n",
       " (22, 'documentary'),\n",
       " (23, 'musical'),\n",
       " (24, 'adventure')]"
      ]
     },
     "execution_count": 54,
     "metadata": {},
     "output_type": "execute_result"
    }
   ],
   "source": [
    "co = conn.cursor()\n",
    "\n",
    "co.execute('''SELECT * FROM genres''')\n",
    "co.fetchall()"
   ]
  },
  {
   "cell_type": "markdown",
   "metadata": {
    "deletable": false,
    "editable": false,
    "nbgrader": {
     "cell_type": "markdown",
     "checksum": "b5c962b7a7267836c127c44ab9dc7268",
     "grade": false,
     "grade_id": "cell-08b9ae36ba0eb49b",
     "locked": true,
     "schema_version": 3,
     "solution": false,
     "task": false
    }
   },
   "source": [
    "### Q2.c (1 mark)\n",
    "\n",
    "Print the number of movies present in the database."
   ]
  },
  {
   "cell_type": "code",
   "execution_count": 55,
   "metadata": {
    "deletable": false,
    "nbgrader": {
     "cell_type": "code",
     "checksum": "e6c143827d9a64f7c3f714cba737d6b3",
     "grade": true,
     "grade_id": "cell-40e01114b0413a7c",
     "locked": false,
     "points": 1,
     "schema_version": 3,
     "solution": true,
     "task": false
    }
   },
   "outputs": [
    {
     "name": "stdout",
     "output_type": "stream",
     "text": [
      "[(617,)]\n"
     ]
    }
   ],
   "source": [
    "co.execute('''SELECT COUNT(*) FROM movies''')\n",
    "print(co.fetchall())\n"
   ]
  },
  {
   "cell_type": "markdown",
   "metadata": {
    "deletable": false,
    "editable": false,
    "nbgrader": {
     "cell_type": "markdown",
     "checksum": "123b411fd3644bd84654350fa0e116af",
     "grade": false,
     "grade_id": "cell-0fd680af094d56db",
     "locked": true,
     "schema_version": 3,
     "solution": false,
     "task": false
    }
   },
   "source": [
    "### Q2.d (1 mark)\n",
    "\n",
    "Print the number of male and female characters, and the number of characters for which a gender is not specified. _(Hint: the GROUP BY construct can be very useful here...)_"
   ]
  },
  {
   "cell_type": "code",
   "execution_count": 56,
   "metadata": {
    "deletable": false,
    "nbgrader": {
     "cell_type": "code",
     "checksum": "7f722e3b99e8425bf5218617d9c8d18a",
     "grade": true,
     "grade_id": "cell-6941dbb51d323a3b",
     "locked": false,
     "points": 1,
     "schema_version": 3,
     "solution": true,
     "task": false
    }
   },
   "outputs": [
    {
     "name": "stdout",
     "output_type": "stream",
     "text": [
      "Gender\t Count\n",
      "None \t 0\n",
      "F \t 966\n",
      "M \t 2049\n"
     ]
    }
   ],
   "source": [
    "N = co.execute('''SELECT gender,COUNT(gender) FROM characters GROUP BY gender ''')\n",
    "print('Gender\\t','Count')\n",
    "for i in N:\n",
    "    print(i[0],'\\t',i[1])"
   ]
  },
  {
   "cell_type": "markdown",
   "metadata": {
    "deletable": false,
    "editable": false,
    "nbgrader": {
     "cell_type": "markdown",
     "checksum": "8723460d244e530486af0b2ede258d72",
     "grade": false,
     "grade_id": "cell-a5b7617c3eb006b7",
     "locked": true,
     "schema_version": 3,
     "solution": false,
     "task": false
    }
   },
   "source": [
    "## Q2.e (1 mark) \n",
    "\n",
    "Retrieve and print the titles of all the crime movies."
   ]
  },
  {
   "cell_type": "code",
   "execution_count": 57,
   "metadata": {
    "deletable": false,
    "nbgrader": {
     "cell_type": "code",
     "checksum": "be263af08d787f59d22f5456b5b7ff3d",
     "grade": true,
     "grade_id": "cell-3aba370c7d77eadd",
     "locked": false,
     "points": 1,
     "schema_version": 3,
     "solution": true,
     "task": false
    }
   },
   "outputs": [
    {
     "name": "stdout",
     "output_type": "stream",
     "text": [
      "[('15 minutes',), ('48 hrs.',), ('8mm',), ('alien nation',), ('austin powers: international man of mystery',), ('backdraft',), ('bad lieutenant',), ('basic',), ('birthday girl',), ('black rain',), ('blue velvet',), ('the boondock saints',), ('bottle rocket',), ('confidence',), ('croupier',), ('dark angel',), ('from dusk till dawn',), ('get shorty',), ('the grifters',), ('innerspace',), ('intolerable cruelty',), ('jackie brown',), ('kalifornia',), ('kids',), ('léon',), ('the life of david gale',), ('minority report',), ('made',), ('man on fire',), ('metro',), ('mobsters',), ('nick of time',), ('no country for old men',), ('nurse betty',), ('o brother where art thou?',), ('rear window',), ('reindeer games',), ('reservoir dogs',), ('smokey and the bandit',), (\"smokin' aces\",), ('someone to watch over me',), ('strange days',), ('suspect zero',), ('the godfather',), ('the talented mr. ripley',), ('the crow: salvation',), ('thelma & louise',), ('thunderheart',), ('true believer',), ('wild at heart',), ('assassins',), ('badlands',), ('batman returns',), ('batman and robin',), ('batman forever',), ('batman',), ('beavis and butt-head do america',), ('the big lebowski',), ('the black dahlia',), ('book of shadows: blair witch 2',), ('blood simple.',), ('blow',), ('bones',), ('bound',), ('casino',), ('catwoman',), ('cellular',), ('chinatown',), ('a clockwork orange',), ('collateral',), ('conspiracy theory',), ('cool hand luke',), ('copycat',), ('crash',), ('crime spree',), ('the crow',), ('demolition man',), ('die hard',), ('dog day afternoon',), ('domino',), ('l.a. confidential',), ('entrapment',), ('face/off',), ('fargo',), ('fight club',), ('fletch',), ('the french connection',), ('frequency',), ('the getaway',), ('get carter',), ('the godfather: part ii',), ('gone in sixty seconds',), ('goodfellas',), ('grosse pointe blank',), ('hackers',), ('hannibal',), ('heathers',), ('heavenly creatures',), ('hostage',), ('hudson hawk',), ('insomnia',), ('the silence of the lambs',), ('lock stock and two smoking barrels',), ('manhunt',), ('manhunter',), ('memento',), ('miami vice',), ('midnight express',), ('\"murderland\"',), ('natural born killers',), ('the negotiator',), ('on the waterfront',), ('out of sight',), ('point break',), ('who framed roger rabbit',), ('ronin',), ('route 9',), ('rush hour 2',), ('rush hour',), ('the salton sea',), ('scream',), ('shallow grave',), ('sister act',), ('stranglehold',), ('sugar & spice',), ('the limey',), (\"the man who wasn't there\",), ('the x files',), ('the lost son',), ('the sting',), ('the thin man',), ('ticker',), ('trouble in paradise',), ('traffic',), ('trainspotting',), ('true romance',), ('u turn',), ('the usual suspects',), ('vertigo',), ('very bad things',), ('virtuosity',), ('wall street',), ('wild things',), ('watchmen',), ('xxx',)]\n"
     ]
    }
   ],
   "source": [
    "co.execute('''SELECT title FROM movies \n",
    "            INNER JOIN movie_genre_linking ON movie_genre_linking.movie_id = movies.movie_id\n",
    "            WHERE movie_genre_linking.genre_id IN\n",
    "            (SELECT genre_id FROM genres WHERE name ='crime')\n",
    "            ''')\n",
    "print(co.fetchall())\n",
    "\n"
   ]
  },
  {
   "cell_type": "markdown",
   "metadata": {
    "deletable": false,
    "editable": false,
    "nbgrader": {
     "cell_type": "markdown",
     "checksum": "9bc3d85a1ea8b9b8913af28380be4e81",
     "grade": false,
     "grade_id": "cell-0e658acac9dc2da0",
     "locked": true,
     "schema_version": 3,
     "solution": false,
     "task": false
    }
   },
   "source": [
    "### Q2.f (1 mark)\n",
    "\n",
    "Retrieve and print the total number of characters of action movies."
   ]
  },
  {
   "cell_type": "code",
   "execution_count": 58,
   "metadata": {
    "deletable": false,
    "nbgrader": {
     "cell_type": "code",
     "checksum": "5178f507bc2dcc6833353040f7d3ea7f",
     "grade": true,
     "grade_id": "cell-27f2ab0b14a4ab21",
     "locked": false,
     "points": 1,
     "schema_version": 3,
     "solution": true,
     "task": false
    }
   },
   "outputs": [
    {
     "name": "stdout",
     "output_type": "stream",
     "text": [
      "[(2150,)]\n"
     ]
    }
   ],
   "source": [
    "co.execute('''SELECT COUNT(character_id) FROM characters\n",
    "          INNER JOIN movie_genre_linking ON movie_genre_linking.movie_id = characters.movie_id\n",
    "          WHERE movie_genre_linking.genre_id IN\n",
    "          (SELECT genre_id FROM genres WHERE name ='action')''')\n",
    "print(co.fetchall())"
   ]
  },
  {
   "cell_type": "code",
   "execution_count": null,
   "metadata": {},
   "outputs": [],
   "source": []
  }
 ],
 "metadata": {
  "kernelspec": {
   "display_name": "Python 3",
   "language": "python",
   "name": "python3"
  },
  "language_info": {
   "codemirror_mode": {
    "name": "ipython",
    "version": 3
   },
   "file_extension": ".py",
   "mimetype": "text/x-python",
   "name": "python",
   "nbconvert_exporter": "python",
   "pygments_lexer": "ipython3",
   "version": "3.7.10"
  }
 },
 "nbformat": 4,
 "nbformat_minor": 2
}

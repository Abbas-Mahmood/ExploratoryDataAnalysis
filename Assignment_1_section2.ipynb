{
 "cells": [
  {
   "cell_type": "markdown",
   "metadata": {},
   "source": [
    "# Assignment 1 - Section 2 (5 marks)"
   ]
  },
  {
   "cell_type": "markdown",
   "metadata": {},
   "source": [
    "-----------------------------------------------\n",
    " Fill in all the functions with the proper regular expressions.\n",
    " \n",
    " Note: There is a test case after each question -- use it to see if your answer is correct!\n",
    "\n",
    "\n",
    " -----------------------------------------------"
   ]
  },
  {
   "cell_type": "code",
   "execution_count": 3,
   "metadata": {},
   "outputs": [],
   "source": [
    "import re"
   ]
  },
  {
   "cell_type": "markdown",
   "metadata": {},
   "source": [
    "## Question 2a (2 marks):\n",
    "\n",
    "-----------------------------------------\n",
    "Create a regular expression that matches everything in Set A but nothing in set B:\n",
    "\n",
    "    set A: [\"go forward\", \"lie back\", \"tie break\", \"die hard\", \"moo cows\", \"loathe chocolate\", \"the best\"]\n",
    "    set B: [\"for me\",\"lie around\",\"tie\",\"arms race\",\"pig tail\",\"diehard\",\"goat cheese\",\"dark sky\",\"blue angel\"]"
   ]
  },
  {
   "cell_type": "code",
   "execution_count": 2,
   "metadata": {},
   "outputs": [],
   "source": [
    "def MatchSet(s):\n",
    "    # Enter pattern here\n",
    "    pattern = re.compile(r'.*o .*|.*e [^a].*')\n",
    "    # pattern = re.compile(r'go forward|lie back|tie break|die hard|moo cows|loathe chocolate|the best')  \n",
    "    # No need to change this line\n",
    "    return re.findall(pattern,s)"
   ]
  },
  {
   "cell_type": "markdown",
   "metadata": {},
   "source": [
    "#### Test Case:"
   ]
  },
  {
   "cell_type": "code",
   "execution_count": 3,
   "metadata": {},
   "outputs": [
    {
     "name": "stdout",
     "output_type": "stream",
     "text": [
      "Set A is:\n",
      "------------------\n",
      "go forward\n",
      "lie back\n",
      "tie break\n",
      "die hard\n",
      "moo cows\n",
      "loathe chocolate\n",
      "the best\n",
      "------------------\n",
      "['go forward', 'lie back', 'tie break', 'die hard', 'moo cows', 'loathe chocolate', 'the best']\n",
      "------------------\n",
      "You matched 7 / 7\n",
      "\n"
     ]
    }
   ],
   "source": [
    "# Check if it matches everything in Set A \n",
    "# Here you want 7/7\n",
    "set_A = \"go forward\\nlie back\\ntie break\\ndie hard\\nmoo cows\\nloathe chocolate\\nthe best\"\n",
    "print(\"Set A is:\\n------------------\\n%s\" % set_A)\n",
    "matches_setA = MatchSet(set_A)\n",
    "print(\"------------------\")\n",
    "print(matches_setA)\n",
    "print(\"------------------\")\n",
    "print(\"You matched %d / 7\\n\" % len(matches_setA))\n"
   ]
  },
  {
   "cell_type": "code",
   "execution_count": 4,
   "metadata": {},
   "outputs": [
    {
     "name": "stdout",
     "output_type": "stream",
     "text": [
      "Set B is:\n",
      "------------------\n",
      "for me\n",
      "lie around\n",
      "tie\n",
      "arms race\n",
      "pig tail\n",
      "diehard\n",
      "goat cheese\n",
      "dark sky\n",
      "blue angel\n",
      "------------------\n",
      "[]\n",
      "------------------\n",
      "You matched 0 / 9\n",
      "\n"
     ]
    }
   ],
   "source": [
    "# Check if  nothing matches in Set B\n",
    "# Here you want 0/9\n",
    "set_B = \"for me\\nlie around\\ntie\\narms race\\npig tail\\ndiehard\\ngoat cheese\\ndark sky\\nblue angel\"\n",
    "print(\"Set B is:\\n------------------\\n%s\" % set_B)\n",
    "matches_setB = MatchSet(set_B)\n",
    "print(\"------------------\")\n",
    "print(matches_setB)\n",
    "print(\"------------------\")\n",
    "print(\"You matched %d / 9\\n\" % len(matches_setB))\n"
   ]
  },
  {
   "cell_type": "markdown",
   "metadata": {},
   "source": [
    "## Question 2b (1 mark):\n",
    "\n",
    "You would like to extract from a piece of text all the numbers written in the format xxxxxxxxx.yyyy\\\\$, i.e., such that the separator used for decimal points is \".\" (dot) and the number is immediately followed by a \"\\\\$\" (dollar) sign. Notice that not all the digits might be present, so that the strings \"12876.31\\\\$\" or \"1567.0\\\\$\" or \"871467321.881\\\\$\" are all valid matches, while the strings \"1476\", or \"45862.31\", or \"12,86\\\\$\" are not valid ones. You can safely assume that no quantity is larger than 999999999.9999 and that at least one decimal digit is always present.\n"
   ]
  },
  {
   "cell_type": "code",
   "execution_count": 6,
   "metadata": {},
   "outputs": [],
   "source": [
    "def DollarMatch(text):\n",
    "    # Enter pattern here\n",
    "    pattern = re.compile(r'\\d{1,9}\\.\\d{1,4}\\$')\n",
    "    \n",
    "    # No need to change this line\n",
    "    return re.findall(pattern,text)"
   ]
  },
  {
   "cell_type": "markdown",
   "metadata": {},
   "source": [
    "### Test Case:\n",
    "\n",
    "The construction of the bridge started in 1852 and ended in 1876, for a total of about 24 years (or 286 months, to be more precise). The total amount of money spent on the realisation of the bridge was 1878234.31\\\\$ in 1876. Each vehicle travelling through the bridge was charged 1.3\\\\$ to cross the bridge. Monthly subscriptions were available for 14.99\\\\$, and allowed for an unlimited number of crossings in a given calendar month."
   ]
  },
  {
   "cell_type": "code",
   "execution_count": 7,
   "metadata": {},
   "outputs": [
    {
     "name": "stdout",
     "output_type": "stream",
     "text": [
      "['1878234.31$', '1.3$', '14.99$']\n"
     ]
    }
   ],
   "source": [
    "test_text = \"\"\"The construction of the bridge started in 1852 and ended in 1876,\n",
    "for a total of about 24 years (or 286 months, to be more precise). The total \n",
    "amount of money spent on the realisation of the bridge was 1878234.31$ in \n",
    "1876. Each vehicle travelling through the bridge was charged 1.3$ to cross \n",
    "the bridge. Monthly subscriptions were available for 14.99$, and allowed \n",
    "for an unlimited number of crossings in a given calendar month.\n",
    "\"\"\"\n",
    "\n",
    "print(DollarMatch(test_text))"
   ]
  },
  {
   "cell_type": "markdown",
   "metadata": {},
   "source": [
    "#### Output should be:\n",
    "\n",
    "    ['1878234.31$', '1.3$', '14.99$']"
   ]
  },
  {
   "cell_type": "markdown",
   "metadata": {},
   "source": [
    "## Question 2c (1 mark):\n",
    "Extract all potential dates from a string. A date is in the format YYYYMMDD, where YYYY are the four digits for the year, MM are the two digits for the month (01 = January), and DD are the two digits for the date (01 is the first day of the month). Your regular expression does not need to check for date consistency (i.e., you do not lose marks for matching 19910231, which would be the 31st of February 1991...)"
   ]
  },
  {
   "cell_type": "code",
   "execution_count": 15,
   "metadata": {},
   "outputs": [],
   "source": [
    "def DateExtract(text):\n",
    "    # Enter pattern here\n",
    "    pattern = re.compile(r'[012]\\d{3}[01]\\d[0123]\\d') \n",
    "    # No need to change this line\n",
    "    return re.findall(pattern,text)"
   ]
  },
  {
   "cell_type": "markdown",
   "metadata": {},
   "source": [
    "### Test Case:\n",
    "\n",
    "Friday 20010727 - We started our camping experience yesterday, after having driven for more than 200 miles away from home to reach the lake. The hut is fantastic, and the experience of sleeping at 6200 feet of altitude is fantastic.\n",
    "\n",
    "Saturday 20010728 - I forgot to say that on 20010725, i.e. just two days before our vacation started, our dog Steve got missing. There was nothing we could do to find him. I hope he is all right...\n",
    "\n",
    "Monday 20010912 - Back to school. Camping was an awesome experience. In the end we found Steve waiting for us when we finally came back (on 20010816). He was a bit slimmer than we remembered, but he apparently managed to survive. If cats have nine lives, dogs surely have more than one.\n",
    "\n",
    "Friday 20020101 - Happy new year. \n"
   ]
  },
  {
   "cell_type": "code",
   "execution_count": 16,
   "metadata": {},
   "outputs": [
    {
     "name": "stdout",
     "output_type": "stream",
     "text": [
      "['20010727', '20010728', '20010725', '20010912', '20010816', '20020101']\n"
     ]
    }
   ],
   "source": [
    "test_text = \"\"\"Friday 20010727 - We started our camping experience yesterday, \n",
    "after having driven for more than 200 miles away from home to reach the lake. \n",
    "The hut is fantastic, and the experience of sleeping at 6200 feet of altitude\n",
    "is fantastic. Saturday 20010728 - I forgot to say that on 20010725, i.e. just\n",
    "two days before our vacation started, our dog Steve got missing. There was\n",
    "nothing we could do to find him. I hope he is all right...\n",
    "Monday 20010912 - Back to school. Camping was an awesome experience. In the\n",
    "end we found Steve waiting for us when we finally came back (on 20010816). \n",
    "He was a bit slimmer than we remembered, but he apparently managed to survive.\n",
    "If cats have nine lives, dogs surely have more than one.\n",
    "Friday 20020101 - Happy new year.\n",
    "\"\"\"\n",
    "\n",
    "print(DateExtract(test_text))"
   ]
  },
  {
   "cell_type": "markdown",
   "metadata": {},
   "source": [
    "#### Output should be:\n",
    "\n",
    "    ['20010727', '20010728', '20010725', '20010912', '20010816', '20020101']\n"
   ]
  },
  {
   "cell_type": "markdown",
   "metadata": {},
   "source": [
    "## Question 2d (1 mark):\n",
    "Find all the occurrences of the string \"March\" in a text, and replace each of the them with the string \"October\". Then, find all the matches of the string \"Spring\" and replace each of them with teh string \"Autumn\". Do this using only the function SeasonReplace below.\n"
   ]
  },
  {
   "cell_type": "code",
   "execution_count": 52,
   "metadata": {},
   "outputs": [],
   "source": [
    "def SeasonReplace(text):\n",
    "    # Enter patterns here\n",
    "    pattern1 = re.compile(r'March')\n",
    "    pattern2 = re.compile(r'Spring')\n",
    "    text = re.sub(pattern1,'October',text)\n",
    "    newtext = re.sub(pattern2,'Autumn',text)\n",
    "    output = newtext\n",
    "    # replace the line above with the line(s) needed \n",
    "    # to perform the two replacements\n",
    "    # ------------------\n",
    "    \n",
    "    return output"
   ]
  },
  {
   "cell_type": "markdown",
   "metadata": {},
   "source": [
    "### Test Case:\n",
    "\n",
    "It was the 27th of March, one of those beautiful Spring afternoons with cold winds and sunny spells. Nobody would stay inside in Spring, even if March is not the warmest of the months in Spring. So they decided to go out for a walk, in a sunny afternoon of March, and enjoyed the colours and scent of the earliest Spring flowers."
   ]
  },
  {
   "cell_type": "code",
   "execution_count": 53,
   "metadata": {},
   "outputs": [
    {
     "name": "stdout",
     "output_type": "stream",
     "text": [
      "It was the 27th of October, one of those beautiful \n",
      "Autumn afternoons with cold winds and sunny spells. Nobody \n",
      "would stay inside in Autumn, even if October is not the warmest \n",
      "of the months in Autumn. So they decided to go out for a walk, \n",
      "in a sunny afternoon of October, and enjoyed the colours and \n",
      "scent of the earliest Autumn flowers.\n",
      "\n"
     ]
    }
   ],
   "source": [
    "\n",
    "test_text = \"\"\"It was the 27th of March, one of those beautiful \n",
    "Spring afternoons with cold winds and sunny spells. Nobody \n",
    "would stay inside in Spring, even if March is not the warmest \n",
    "of the months in Spring. So they decided to go out for a walk, \n",
    "in a sunny afternoon of March, and enjoyed the colours and \n",
    "scent of the earliest Spring flowers.\n",
    "\"\"\"\n",
    "print(SeasonReplace(test_text))"
   ]
  },
  {
   "cell_type": "markdown",
   "metadata": {},
   "source": [
    "#### Output should be:\n",
    "\n",
    "    It was the 27th of October, one of those beautiful \n",
    "    Autumn afternoons with cold winds and sunny spells. Nobody \n",
    "    would stay inside in Autumn, even if October is not the warmest \n",
    "    of the months in Autumn. So they decided to go out for a walk, \n",
    "    in a sunny afternoon of October, and enjoyed the colours and \n",
    "    scent of the earliest Autumn flowers."
   ]
  },
  {
   "cell_type": "code",
   "execution_count": null,
   "metadata": {},
   "outputs": [],
   "source": []
  }
 ],
 "metadata": {
  "kernelspec": {
   "display_name": "Python 3",
   "language": "python",
   "name": "python3"
  },
  "language_info": {
   "codemirror_mode": {
    "name": "ipython",
    "version": 3
   },
   "file_extension": ".py",
   "mimetype": "text/x-python",
   "name": "python",
   "nbconvert_exporter": "python",
   "pygments_lexer": "ipython3",
   "version": "3.7.1"
  }
 },
 "nbformat": 4,
 "nbformat_minor": 4
}

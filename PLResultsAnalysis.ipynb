{
 "cells": [
  {
   "cell_type": "markdown",
   "metadata": {},
   "source": [
    "# Anlaysis of Premier League results data from 2013/14 to 2018/19\n",
    "The Premier league is often considered one of the most competitive and entertaining football leagues in the world.\n",
    "\n",
    "My objective of this mini-project is to look into some of the key features of the league and to present them visually.\n",
    "\n",
    "In particular, i will seek to analyse the following:\n",
    "- The difference between playing at home and playing away.\n",
    "- The distribution of goals in games.\n",
    "- Which teams can be considered the most best and most entertaining."
   ]
  },
  {
   "cell_type": "code",
   "execution_count": 10,
   "metadata": {},
   "outputs": [],
   "source": [
    "#importing relevant libraries\n",
    "import numpy as np\n",
    "import pandas as pd\n",
    "import matplotlib.pyplot as plt\n",
    "%matplotlib inline\n",
    "import seaborn as sns"
   ]
  },
  {
   "cell_type": "code",
   "execution_count": 11,
   "metadata": {},
   "outputs": [],
   "source": [
    "#Reading in the csv files containing data for each season.\n",
    "df19 = pd.read_csv('english-premier-league_zip/archive/season-1819.csv') \n",
    "df18 = pd.read_csv('english-premier-league_zip/archive/season-1718.csv')\n",
    "df17 = pd.read_csv('english-premier-league_zip/archive/season-1617.csv')\n",
    "df16 = pd.read_csv('english-premier-league_zip/archive/season-1516.csv')\n",
    "df15 = pd.read_csv('english-premier-league_zip/archive/season-1415.csv')\n",
    "df14 = pd.read_csv('english-premier-league_zip/archive/season-1314.csv')"
   ]
  },
  {
   "cell_type": "code",
   "execution_count": 12,
   "metadata": {},
   "outputs": [
    {
     "data": {
      "text/plain": [
       "Index(['Div', 'Date', 'HomeTeam', 'AwayTeam', 'FTHG', 'FTAG', 'FTR', 'HTHG',\n",
       "       'HTAG', 'HTR', 'Referee', 'HS', 'AS', 'HST', 'AST', 'HF', 'AF', 'HC',\n",
       "       'AC', 'HY', 'AY', 'HR', 'AR', 'B365H', 'B365D', 'B365A', 'BWH', 'BWD',\n",
       "       'BWA', 'IWH', 'IWD', 'IWA', 'PSH', 'PSD', 'PSA', 'WHH', 'WHD', 'WHA',\n",
       "       'VCH', 'VCD', 'VCA', 'Bb1X2', 'BbMxH', 'BbAvH', 'BbMxD', 'BbAvD',\n",
       "       'BbMxA', 'BbAvA', 'BbOU', 'BbMx>2.5', 'BbAv>2.5', 'BbMx<2.5',\n",
       "       'BbAv<2.5', 'BbAH', 'BbAHh', 'BbMxAHH', 'BbAvAHH', 'BbMxAHA', 'BbAvAHA',\n",
       "       'PSCH', 'PSCD', 'PSCA'],\n",
       "      dtype='object')"
      ]
     },
     "execution_count": 12,
     "metadata": {},
     "output_type": "execute_result"
    }
   ],
   "source": [
    "df19.columns"
   ]
  },
  {
   "cell_type": "code",
   "execution_count": 17,
   "metadata": {},
   "outputs": [
    {
     "name": "stdout",
     "output_type": "stream",
     "text": [
      "Notes for Football Data\n",
      "\n",
      "All data is in csv format, ready for use within standard spreadsheet applications. Please note that some abbreviations are no longer in use (in particular odds from specific bookmakers no longer used) and refer to data collected in earlier seasons. For a current list of what bookmakers are included in the dataset please visit http://www.football-data.co.uk/matches.php\n",
      "\n",
      "Key to results data:\n",
      "\n",
      "Div = League Division\n",
      "Date = Match Date (dd/mm/yy)\n",
      "HomeTeam = Home Team\n",
      "AwayTeam = Away Team\n",
      "FTHG = Full Time Home Team Goals\n",
      "FTAG = Full Time Away Team Goals\n",
      "FTR = Full Time Result (H=Home Win, D=Draw, A=Away Win)\n",
      "HTHG = Half Time Home Team Goals\n",
      "HTAG = Half Time Away Team Goals\n",
      "HTR = Half Time Result (H=Home Win, D=Draw, A=Away Win)\n",
      "\n",
      "Match Statistics (where available)\n",
      "Attendance = Crowd Attendance\n",
      "Referee = Match Referee\n",
      "HS = Home Team Shots\n",
      "AS = Away Team Shots\n",
      "HST = Home Team Shots on Target\n",
      "AST = Away Team Shots on Target\n",
      "HHW = Home Team Hit Woodwork\n",
      "AHW = Away Team Hit Woodwork\n",
      "HC = Home Team Corners\n",
      "AC = Away Team Corners\n",
      "HF = Home Team Fouls Committed\n",
      "AF = Away Team Fouls Committed\n",
      "HO = Home Team Offsides\n",
      "AO = Away Team Offsides\n",
      "HY = Home Team Yellow Cards\n",
      "AY = Away Team Yellow Cards\n",
      "HR = Home Team Red Cards\n",
      "AR = Away Team Red Cards\n",
      "HBP = Home Team Bookings Points (10 = yellow, 25 = red)\n",
      "ABP = Away Team Bookings Points (10 = yellow, 25 = red)\n",
      "\n",
      "Key to 1X2 (match) betting odds data:\n",
      "\n",
      "B365H = Bet365 home win odds\n",
      "B365D = Bet365 draw odds\n",
      "B365A = Bet365 away win odds\n",
      "BSH = Blue Square home win odds\n",
      "BSD = Blue Square draw odds\n",
      "BSA = Blue Square away win odds\n",
      "BWH = Bet&Win home win odds\n",
      "BWD = Bet&Win draw odds\n",
      "BWA = Bet&Win away win odds\n",
      "GBH = Gamebookers home win odds\n",
      "GBD = Gamebookers draw odds\n",
      "GBA = Gamebookers away win odds\n",
      "IWH = Interwetten home win odds\n",
      "IWD = Interwetten draw odds\n",
      "IWA = Interwetten away win odds\n",
      "LBH = Ladbrokes home win odds\n",
      "LBD = Ladbrokes draw odds\n",
      "LBA = Ladbrokes away win odds\n",
      "PSH = Pinnacle Sports home win odds\n",
      "PSD = Pinnacle Sports draw odds\n",
      "PSA = Pinnacle Sports away win odds\n",
      "SOH = Sporting Odds home win odds\n",
      "SOD = Sporting Odds draw odds\n",
      "SOA = Sporting Odds away win odds\n",
      "SBH = Sportingbet home win odds\n",
      "SBD = Sportingbet draw odds\n",
      "SBA = Sportingbet away win odds\n",
      "SJH = Stan James home win odds\n",
      "SJD = Stan James draw odds\n",
      "SJA = Stan James away win odds\n",
      "SYH = Stanleybet home win odds\n",
      "SYD = Stanleybet draw odds\n",
      "SYA = Stanleybet away win odds\n",
      "VCH = VC Bet home win odds\n",
      "VCD = VC Bet draw odds\n",
      "VCA = VC Bet away win odds\n",
      "WHH = William Hill home win odds\n",
      "WHD = William Hill draw odds\n",
      "WHA = William Hill away win odds\n",
      "\n",
      "Bb1X2 = Number of BetBrain bookmakers used to calculate match odds averages and maximums\n",
      "BbMxH = Betbrain maximum home win odds\n",
      "BbAvH = Betbrain average home win odds\n",
      "BbMxD = Betbrain maximum draw odds\n",
      "BbAvD = Betbrain average draw win odds\n",
      "BbMxA = Betbrain maximum away win odds\n",
      "BbAvA = Betbrain average away win odds\n",
      "\n",
      "\n",
      "\n",
      "Key to total goals betting odds:\n",
      "\n",
      "BbOU = Number of BetBrain bookmakers used to calculate over/under 2.5 goals (total goals) averages and maximums\n",
      "BbMx>2.5 = Betbrain maximum over 2.5 goals\n",
      "BbAv>2.5 = Betbrain average over 2.5 goals\n",
      "BbMx<2.5 = Betbrain maximum under 2.5 goals\n",
      "BbAv<2.5 = Betbrain average under 2.5 goals\n",
      "\n",
      "GB>2.5 = Gamebookers over 2.5 goals\n",
      "GB<2.5 = Gamebookers under 2.5 goals\n",
      "B365>2.5 = Bet365 over 2.5 goals\n",
      "B365<2.5 = Bet365 under 2.5 goals\n",
      "\n",
      "\n",
      "Key to Asian handicap betting odds:\n",
      "\n",
      "BbAH = Number of BetBrain bookmakers used to Asian handicap averages and maximums\n",
      "BbAHh = Betbrain size of handicap (home team)\n",
      "BbMxAHH = Betbrain maximum Asian handicap home team odds\n",
      "BbAvAHH = Betbrain average Asian handicap home team odds\n",
      "BbMxAHA = Betbrain maximum Asian handicap away team odds\n",
      "BbAvAHA = Betbrain average Asian handicap away team odds\n",
      "\n",
      "GBAHH = Gamebookers Asian handicap home team odds\n",
      "GBAHA = Gamebookers Asian handicap away team odds\n",
      "GBAH = Gamebookers size of handicap (home team)\n",
      "LBAHH = Ladbrokes Asian handicap home team odds\n",
      "LBAHA = Ladbrokes Asian handicap away team odds\n",
      "LBAH = Ladbrokes size of handicap (home team)\n",
      "B365AHH = Bet365 Asian handicap home team odds\n",
      "B365AHA = Bet365 Asian handicap away team odds\n",
      "B365AH = Bet365 size of handicap (home team)\n",
      "\n",
      "Football-Data would like to acknowledge the following sources which have been utilised in the compilation of Football-Data's results and odds files.\n",
      "\n",
      "Historical results:\n",
      "International Soccer Server - http://sunsite.tut.fi/rec/riku/soccer.html\n",
      "European Football - http://www.eurofootball.be/\n",
      "RSSSF Archive - http://www.rsssf.com/\n",
      "\n",
      "Current results (full time, half time)\n",
      "TBWSport - http://www.tbwsport.com\n",
      "Livescore- http://www.livescore.com\n",
      "\n",
      "Match statistics\n",
      "Sportinglife, ESPN Soccer, Bundesliga.de, Gazzetta.it and Football.fr\n",
      "\n",
      "Bookmakers betting odds\n",
      "Betbrain - http://www.betbrain.com\n",
      "Betbase - http://www.betbase.info\n",
      "\n",
      "Betting odds for weekend games are collected Friday afternoons, and on Tuesday afternoons for midweek games.\n",
      "\n",
      "Additional match statistics (corners, shots, bookings, referee etc.) for the 2000/01 and 2001/02 seasons for the English, Scottish and German leagues were provided by Sports.com (now under new ownership and no longer available).\n",
      "\n",
      "\n"
     ]
    }
   ],
   "source": [
    "#In order to make sense of the headings.\n",
    "f = open('english-premier-league_zip/HeadingNotes.txt','r')\n",
    "Heading = f.read()\n",
    "f.close()\n",
    "print(Heading)"
   ]
  },
  {
   "cell_type": "code",
   "execution_count": 18,
   "metadata": {},
   "outputs": [],
   "source": [
    "#Subsetting the dataframes into concise dataframes containing relevant columns for my analysis.\n",
    "df19 = df19[['HomeTeam', 'AwayTeam', 'FTHG', 'FTAG', 'FTR', 'HTHG',\n",
    "       'HTAG', 'HTR']]\n",
    "df18 = df18[['HomeTeam', 'AwayTeam', 'FTHG', 'FTAG', 'FTR', 'HTHG',\n",
    "       'HTAG', 'HTR']]\n",
    "df17 = df17[['HomeTeam', 'AwayTeam', 'FTHG', 'FTAG', 'FTR', 'HTHG',\n",
    "       'HTAG', 'HTR']]\n",
    "df16 = df16[['HomeTeam', 'AwayTeam', 'FTHG', 'FTAG', 'FTR', 'HTHG',\n",
    "       'HTAG', 'HTR']]\n",
    "df15 = df15[['HomeTeam', 'AwayTeam', 'FTHG', 'FTAG', 'FTR', 'HTHG',\n",
    "       'HTAG', 'HTR']]\n",
    "df14 = df14[['HomeTeam', 'AwayTeam', 'FTHG', 'FTAG', 'FTR', 'HTHG',\n",
    "       'HTAG', 'HTR']]"
   ]
  },
  {
   "cell_type": "code",
   "execution_count": 19,
   "metadata": {},
   "outputs": [
    {
     "data": {
      "text/html": [
       "<div>\n",
       "<style scoped>\n",
       "    .dataframe tbody tr th:only-of-type {\n",
       "        vertical-align: middle;\n",
       "    }\n",
       "\n",
       "    .dataframe tbody tr th {\n",
       "        vertical-align: top;\n",
       "    }\n",
       "\n",
       "    .dataframe thead th {\n",
       "        text-align: right;\n",
       "    }\n",
       "</style>\n",
       "<table border=\"1\" class=\"dataframe\">\n",
       "  <thead>\n",
       "    <tr style=\"text-align: right;\">\n",
       "      <th></th>\n",
       "      <th>HomeTeam</th>\n",
       "      <th>AwayTeam</th>\n",
       "      <th>FTHG</th>\n",
       "      <th>FTAG</th>\n",
       "      <th>FTR</th>\n",
       "      <th>HTHG</th>\n",
       "      <th>HTAG</th>\n",
       "      <th>HTR</th>\n",
       "      <th>Year</th>\n",
       "    </tr>\n",
       "  </thead>\n",
       "  <tbody>\n",
       "    <tr>\n",
       "      <th>0</th>\n",
       "      <td>Man United</td>\n",
       "      <td>Leicester</td>\n",
       "      <td>2.0</td>\n",
       "      <td>1.0</td>\n",
       "      <td>H</td>\n",
       "      <td>1.0</td>\n",
       "      <td>0.0</td>\n",
       "      <td>H</td>\n",
       "      <td>2018/19</td>\n",
       "    </tr>\n",
       "    <tr>\n",
       "      <th>1</th>\n",
       "      <td>Bournemouth</td>\n",
       "      <td>Cardiff</td>\n",
       "      <td>2.0</td>\n",
       "      <td>0.0</td>\n",
       "      <td>H</td>\n",
       "      <td>1.0</td>\n",
       "      <td>0.0</td>\n",
       "      <td>H</td>\n",
       "      <td>2018/19</td>\n",
       "    </tr>\n",
       "    <tr>\n",
       "      <th>2</th>\n",
       "      <td>Fulham</td>\n",
       "      <td>Crystal Palace</td>\n",
       "      <td>0.0</td>\n",
       "      <td>2.0</td>\n",
       "      <td>A</td>\n",
       "      <td>0.0</td>\n",
       "      <td>1.0</td>\n",
       "      <td>A</td>\n",
       "      <td>2018/19</td>\n",
       "    </tr>\n",
       "    <tr>\n",
       "      <th>3</th>\n",
       "      <td>Huddersfield</td>\n",
       "      <td>Chelsea</td>\n",
       "      <td>0.0</td>\n",
       "      <td>3.0</td>\n",
       "      <td>A</td>\n",
       "      <td>0.0</td>\n",
       "      <td>2.0</td>\n",
       "      <td>A</td>\n",
       "      <td>2018/19</td>\n",
       "    </tr>\n",
       "    <tr>\n",
       "      <th>4</th>\n",
       "      <td>Newcastle</td>\n",
       "      <td>Tottenham</td>\n",
       "      <td>1.0</td>\n",
       "      <td>2.0</td>\n",
       "      <td>A</td>\n",
       "      <td>1.0</td>\n",
       "      <td>2.0</td>\n",
       "      <td>A</td>\n",
       "      <td>2018/19</td>\n",
       "    </tr>\n",
       "  </tbody>\n",
       "</table>\n",
       "</div>"
      ],
      "text/plain": [
       "       HomeTeam        AwayTeam  FTHG  FTAG FTR  HTHG  HTAG HTR     Year\n",
       "0    Man United       Leicester   2.0   1.0   H   1.0   0.0   H  2018/19\n",
       "1   Bournemouth         Cardiff   2.0   0.0   H   1.0   0.0   H  2018/19\n",
       "2        Fulham  Crystal Palace   0.0   2.0   A   0.0   1.0   A  2018/19\n",
       "3  Huddersfield         Chelsea   0.0   3.0   A   0.0   2.0   A  2018/19\n",
       "4     Newcastle       Tottenham   1.0   2.0   A   1.0   2.0   A  2018/19"
      ]
     },
     "execution_count": 19,
     "metadata": {},
     "output_type": "execute_result"
    }
   ],
   "source": [
    "#Adding column specifying the year.\n",
    "df19['Year'] = '2018/19'\n",
    "df18['Year'] = '2017/18'\n",
    "df17['Year'] = '2016/17'\n",
    "df16['Year'] = '2015/16'\n",
    "df15['Year'] = '2014/15'\n",
    "df14['Year'] = '2013/14'\n",
    "\n",
    "#Dataframe containing data from all seasons.\n",
    "df_all = pd.concat([df19,df18,df17,df16,df15,df14])\n",
    "df_all.head()"
   ]
  },
  {
   "cell_type": "code",
   "execution_count": 20,
   "metadata": {},
   "outputs": [
    {
     "data": {
      "text/plain": [
       "HomeTeam    1\n",
       "AwayTeam    1\n",
       "FTHG        1\n",
       "FTAG        1\n",
       "FTR         1\n",
       "HTHG        1\n",
       "HTAG        1\n",
       "HTR         1\n",
       "Year        0\n",
       "dtype: int64"
      ]
     },
     "execution_count": 20,
     "metadata": {},
     "output_type": "execute_result"
    }
   ],
   "source": [
    "#Checking to see if theres any null values that might affect our data.\n",
    "df_all.isnull().sum()"
   ]
  },
  {
   "cell_type": "code",
   "execution_count": 21,
   "metadata": {},
   "outputs": [
    {
     "name": "stdout",
     "output_type": "stream",
     "text": [
      "    HomeTeam AwayTeam  FTHG  FTAG  FTR  HTHG  HTAG  HTR     Year\n",
      "380      NaN      NaN   NaN   NaN  NaN   NaN   NaN  NaN  2014/15\n"
     ]
    }
   ],
   "source": [
    "#Finding rows with null values\n",
    "is_NaN = df_all. isnull()\n",
    "row_has_NaN = is_NaN. any(axis=1)\n",
    "rows_with_NaN = df_all[row_has_NaN]\n",
    "print(rows_with_NaN)"
   ]
  },
  {
   "cell_type": "markdown",
   "metadata": {},
   "source": [
    "We can see that all the null values are in the same row. Since we have over 2000 rows of data, the best thing to do would be to drop this row as it will not have much of an effect on our analysis."
   ]
  },
  {
   "cell_type": "code",
   "execution_count": 22,
   "metadata": {},
   "outputs": [
    {
     "data": {
      "text/plain": [
       "HomeTeam    0\n",
       "AwayTeam    0\n",
       "FTHG        0\n",
       "FTAG        0\n",
       "FTR         0\n",
       "HTHG        0\n",
       "HTAG        0\n",
       "HTR         0\n",
       "Year        0\n",
       "dtype: int64"
      ]
     },
     "execution_count": 22,
     "metadata": {},
     "output_type": "execute_result"
    }
   ],
   "source": [
    "#dropping the null row found above\n",
    "df_all = df_all.dropna()\n",
    "df15 = df15.dropna()\n",
    "df_all.isnull().sum() "
   ]
  },
  {
   "cell_type": "code",
   "execution_count": 23,
   "metadata": {},
   "outputs": [
    {
     "data": {
      "text/plain": [
       "(2280, 9)"
      ]
     },
     "execution_count": 23,
     "metadata": {},
     "output_type": "execute_result"
    }
   ],
   "source": [
    "df_all.shape"
   ]
  },
  {
   "cell_type": "markdown",
   "metadata": {},
   "source": [
    "# Anlaysis"
   ]
  },
  {
   "cell_type": "code",
   "execution_count": 24,
   "metadata": {},
   "outputs": [
    {
     "data": {
      "image/png": "[encoded data removed]",
      "text/plain": [
       "<Figure size 432x288 with 1 Axes>"
      ]
     },
     "metadata": {
      "needs_background": "light"
     },
     "output_type": "display_data"
    }
   ],
   "source": [
    "THG = df_all.groupby('Year')['FTHG'].sum() #Total home goals each season\n",
    "TAG = df_all.groupby('Year')['FTAG'].sum() #Total away goals each season\n",
    "\n",
    "plt.plot(THG, label = 'Home')\n",
    "plt.plot(TAG, label = 'Away')\n",
    "plt.legend()\n",
    "plt.xlabel('Year'),plt.ylabel('Goals')\n",
    "plt.title('Home and Away Goals by Season');"
   ]
  },
  {
   "cell_type": "code",
   "execution_count": 25,
   "metadata": {},
   "outputs": [
    {
     "name": "stdout",
     "output_type": "stream",
     "text": [
      "Year\n",
      "2013/14    144.0\n",
      "2014/15    145.0\n",
      "2015/16    108.0\n",
      "2016/17    150.0\n",
      "2017/18    146.0\n",
      "2018/19    120.0\n",
      "dtype: float64\n"
     ]
    },
    {
     "data": {
      "image/png": "[encoded data removed]",
      "text/plain": [
       "<Figure size 432x288 with 1 Axes>"
      ]
     },
     "metadata": {
      "needs_background": "light"
     },
     "output_type": "display_data"
    }
   ],
   "source": [
    "#Total diff. between home and away each season\n",
    "Diff = THG-TAG\n",
    "print(Diff)\n",
    "plt.boxplot(Diff);\n",
    "plt.title('Differences Between Total Home and Away Goals');\n",
    "plt.ylabel('Goals');"
   ]
  },
  {
   "cell_type": "code",
   "execution_count": 26,
   "metadata": {},
   "outputs": [
    {
     "data": {
      "image/png": "[encoded data removed]",
      "text/plain": [
       "<Figure size 432x288 with 2 Axes>"
      ]
     },
     "metadata": {
      "needs_background": "light"
     },
     "output_type": "display_data"
    }
   ],
   "source": [
    "#Plots for Home and Away goals \n",
    "f, ax = plt.subplots(1, 2)\n",
    "sns.countplot('FTHG',data=df_all,ax=ax[0]);\n",
    "sns.countplot('FTAG',data=df_all,ax=ax[1]);\n",
    "ax[0].set_title('Number of Full Time \\nHome Goals');\n",
    "ax[1].set_title('Number of Full Time \\nAway Goals');\n",
    "plt.subplots_adjust(wspace=0.4)"
   ]
  },
  {
   "cell_type": "code",
   "execution_count": 27,
   "metadata": {},
   "outputs": [
    {
     "name": "stdout",
     "output_type": "stream",
     "text": [
      "Mean FTG =  2.7223684210526318\n"
     ]
    },
    {
     "data": {
      "image/png": "[encoded data removed]",
      "text/plain": [
       "<Figure size 432x288 with 2 Axes>"
      ]
     },
     "metadata": {
      "needs_background": "light"
     },
     "output_type": "display_data"
    }
   ],
   "source": [
    "#Plots for Total goals in game\n",
    "#Adding colum for FTG\n",
    "df_all['FTG']=df_all['FTHG']+df_all['FTAG']\n",
    "\n",
    "f, ax = plt.subplots(2,1)\n",
    "ax[0].hist(df_all['FTG'],bins = 10);\n",
    "ax[1].boxplot(df_all['FTG'],vert=False);\n",
    "ax[0].set_title('Histogram for number of FTG in a game');\n",
    "ax[1].set_title('Boxplot for number of FTG in a game');\n",
    "ax[0].set_xlabel('Goals'),ax[1].set_xlabel('Goals')\n",
    "ax[0].set_ylabel('Count')\n",
    "plt.subplots_adjust(hspace=0.7)\n",
    "print('Mean FTG = ',df_all['FTG'].mean())"
   ]
  },
  {
   "cell_type": "code",
   "execution_count": 28,
   "metadata": {},
   "outputs": [
    {
     "data": {
      "text/html": [
       "<div>\n",
       "<style scoped>\n",
       "    .dataframe tbody tr th:only-of-type {\n",
       "        vertical-align: middle;\n",
       "    }\n",
       "\n",
       "    .dataframe tbody tr th {\n",
       "        vertical-align: top;\n",
       "    }\n",
       "\n",
       "    .dataframe thead th {\n",
       "        text-align: right;\n",
       "    }\n",
       "</style>\n",
       "<table border=\"1\" class=\"dataframe\">\n",
       "  <thead>\n",
       "    <tr style=\"text-align: right;\">\n",
       "      <th></th>\n",
       "      <th>HomeTeam</th>\n",
       "      <th>AwayTeam</th>\n",
       "      <th>FTHG</th>\n",
       "      <th>FTAG</th>\n",
       "      <th>FTR</th>\n",
       "      <th>HTHG</th>\n",
       "      <th>HTAG</th>\n",
       "      <th>HTR</th>\n",
       "      <th>Year</th>\n",
       "      <th>FTG</th>\n",
       "    </tr>\n",
       "  </thead>\n",
       "  <tbody>\n",
       "    <tr>\n",
       "      <th>73</th>\n",
       "      <td>Man City</td>\n",
       "      <td>Stoke</td>\n",
       "      <td>7.0</td>\n",
       "      <td>2.0</td>\n",
       "      <td>H</td>\n",
       "      <td>3.0</td>\n",
       "      <td>1.0</td>\n",
       "      <td>H</td>\n",
       "      <td>2017/18</td>\n",
       "      <td>9.0</td>\n",
       "    </tr>\n",
       "    <tr>\n",
       "      <th>378</th>\n",
       "      <td>Tottenham</td>\n",
       "      <td>Leicester</td>\n",
       "      <td>5.0</td>\n",
       "      <td>4.0</td>\n",
       "      <td>H</td>\n",
       "      <td>1.0</td>\n",
       "      <td>2.0</td>\n",
       "      <td>A</td>\n",
       "      <td>2017/18</td>\n",
       "      <td>9.0</td>\n",
       "    </tr>\n",
       "    <tr>\n",
       "      <th>125</th>\n",
       "      <td>Swansea</td>\n",
       "      <td>Crystal Palace</td>\n",
       "      <td>5.0</td>\n",
       "      <td>4.0</td>\n",
       "      <td>H</td>\n",
       "      <td>1.0</td>\n",
       "      <td>1.0</td>\n",
       "      <td>D</td>\n",
       "      <td>2016/17</td>\n",
       "      <td>9.0</td>\n",
       "    </tr>\n",
       "    <tr>\n",
       "      <th>232</th>\n",
       "      <td>Everton</td>\n",
       "      <td>Bournemouth</td>\n",
       "      <td>6.0</td>\n",
       "      <td>3.0</td>\n",
       "      <td>H</td>\n",
       "      <td>3.0</td>\n",
       "      <td>0.0</td>\n",
       "      <td>H</td>\n",
       "      <td>2016/17</td>\n",
       "      <td>9.0</td>\n",
       "    </tr>\n",
       "    <tr>\n",
       "      <th>223</th>\n",
       "      <td>Norwich</td>\n",
       "      <td>Liverpool</td>\n",
       "      <td>4.0</td>\n",
       "      <td>5.0</td>\n",
       "      <td>A</td>\n",
       "      <td>2.0</td>\n",
       "      <td>1.0</td>\n",
       "      <td>H</td>\n",
       "      <td>2015/16</td>\n",
       "      <td>9.0</td>\n",
       "    </tr>\n",
       "    <tr>\n",
       "      <th>21</th>\n",
       "      <td>Everton</td>\n",
       "      <td>Chelsea</td>\n",
       "      <td>3.0</td>\n",
       "      <td>6.0</td>\n",
       "      <td>A</td>\n",
       "      <td>1.0</td>\n",
       "      <td>2.0</td>\n",
       "      <td>A</td>\n",
       "      <td>2014/15</td>\n",
       "      <td>9.0</td>\n",
       "    </tr>\n",
       "    <tr>\n",
       "      <th>154</th>\n",
       "      <td>Man City</td>\n",
       "      <td>Arsenal</td>\n",
       "      <td>6.0</td>\n",
       "      <td>3.0</td>\n",
       "      <td>H</td>\n",
       "      <td>2.0</td>\n",
       "      <td>1.0</td>\n",
       "      <td>H</td>\n",
       "      <td>2013/14</td>\n",
       "      <td>9.0</td>\n",
       "    </tr>\n",
       "    <tr>\n",
       "      <th>291</th>\n",
       "      <td>Cardiff</td>\n",
       "      <td>Liverpool</td>\n",
       "      <td>3.0</td>\n",
       "      <td>6.0</td>\n",
       "      <td>A</td>\n",
       "      <td>2.0</td>\n",
       "      <td>2.0</td>\n",
       "      <td>D</td>\n",
       "      <td>2013/14</td>\n",
       "      <td>9.0</td>\n",
       "    </tr>\n",
       "  </tbody>\n",
       "</table>\n",
       "</div>"
      ],
      "text/plain": [
       "      HomeTeam        AwayTeam  FTHG  FTAG FTR  HTHG  HTAG HTR     Year  FTG\n",
       "73    Man City           Stoke   7.0   2.0   H   3.0   1.0   H  2017/18  9.0\n",
       "378  Tottenham       Leicester   5.0   4.0   H   1.0   2.0   A  2017/18  9.0\n",
       "125    Swansea  Crystal Palace   5.0   4.0   H   1.0   1.0   D  2016/17  9.0\n",
       "232    Everton     Bournemouth   6.0   3.0   H   3.0   0.0   H  2016/17  9.0\n",
       "223    Norwich       Liverpool   4.0   5.0   A   2.0   1.0   H  2015/16  9.0\n",
       "21     Everton         Chelsea   3.0   6.0   A   1.0   2.0   A  2014/15  9.0\n",
       "154   Man City         Arsenal   6.0   3.0   H   2.0   1.0   H  2013/14  9.0\n",
       "291    Cardiff       Liverpool   3.0   6.0   A   2.0   2.0   D  2013/14  9.0"
      ]
     },
     "execution_count": 28,
     "metadata": {},
     "output_type": "execute_result"
    }
   ],
   "source": [
    "#What were the outliers? These were matches with more than 8 goals\n",
    "df_all[df_all['FTG']>8]"
   ]
  },
  {
   "cell_type": "code",
   "execution_count": 29,
   "metadata": {},
   "outputs": [
    {
     "data": {
      "image/png": "[encoded data removed]",
      "text/plain": [
       "<Figure size 432x288 with 1 Axes>"
      ]
     },
     "metadata": {
      "needs_background": "light"
     },
     "output_type": "display_data"
    }
   ],
   "source": [
    "#fulltimegoals based on result\n",
    "sns.countplot('FTR',hue='FTG',data = df_all)\n",
    "plt.legend(bbox_to_anchor=(1.01,1),borderaxespad=0);\n",
    "plt.title('Number of each result split by number of goals');"
   ]
  },
  {
   "cell_type": "code",
   "execution_count": 30,
   "metadata": {},
   "outputs": [
    {
     "name": "stdout",
     "output_type": "stream",
     "text": [
      "Home wins\n",
      " Year\n",
      "2013/14    179\n",
      "2014/15    172\n",
      "2015/16    157\n",
      "2016/17    187\n",
      "2017/18    173\n",
      "2018/19    181\n",
      "Name: FTR, dtype: int64 \n",
      "\n",
      "Away wins\n",
      " Year\n",
      "2013/14    123\n",
      "2014/15    115\n",
      "2015/16    116\n",
      "2016/17    109\n",
      "2017/18    108\n",
      "2018/19    128\n",
      "Name: FTR, dtype: int64 \n",
      "\n",
      "Draws\n",
      " Year\n",
      "2013/14     78\n",
      "2014/15     93\n",
      "2015/16    107\n",
      "2016/17     84\n",
      "2017/18     99\n",
      "2018/19     71\n",
      "Name: FTR, dtype: int64\n"
     ]
    }
   ],
   "source": [
    "#Number of home wins away wins and draws in each season\n",
    "HomeWins = df_all[df_all['FTR']=='H']\n",
    "HomeWinsByYear = HomeWins.groupby('Year').FTR.count()\n",
    "\n",
    "AwayWins = df_all[df_all['FTR']=='A']\n",
    "AwayWinsByYear = AwayWins.groupby('Year').FTR.count()\n",
    "\n",
    "Draws = df_all[df_all['FTR']=='D']\n",
    "DrawsByYear = Draws.groupby('Year').FTR.count()\n",
    "\n",
    "print('Home wins\\n',HomeWinsByYear,\"\\n\")\n",
    "print('Away wins\\n',AwayWinsByYear,\"\\n\")\n",
    "print('Draws\\n',DrawsByYear)"
   ]
  },
  {
   "cell_type": "code",
   "execution_count": 31,
   "metadata": {},
   "outputs": [
    {
     "data": {
      "image/png": "[encoded data removed]",
      "text/plain": [
       "<Figure size 432x288 with 1 Axes>"
      ]
     },
     "metadata": {
      "needs_background": "light"
     },
     "output_type": "display_data"
    }
   ],
   "source": [
    "#graph showing the number of each result based on year\n",
    "g = sns.countplot('Year',hue = 'FTR',data = df_all)\n",
    "\n",
    "g.set_xlabel('Year')\n",
    "g.set_title('Number of each result based on year ', fontsize=16);\n",
    "g.legend(bbox_to_anchor=(1.01,1),borderaxespad=0);\n"
   ]
  },
  {
   "cell_type": "code",
   "execution_count": 32,
   "metadata": {},
   "outputs": [
    {
     "name": "stdout",
     "output_type": "stream",
     "text": [
      "Home goals per game\n",
      " HomeTeam\n",
      "Man City     2.710526\n",
      "Liverpool    2.289474\n",
      "Arsenal      2.131579\n",
      "Chelsea      2.061404\n",
      "Tottenham    1.903509\n",
      "Everton      1.754386\n",
      "Name: FTHG, dtype: float64 \n",
      "\n",
      "Away goals per game\n",
      " AwayTeam\n",
      "Man City      2.000000\n",
      "Liverpool     1.807018\n",
      "Tottenham     1.684211\n",
      "Arsenal       1.622807\n",
      "Chelsea       1.561404\n",
      "Man United    1.473684\n",
      "Name: FTAG, dtype: float64 \n",
      "\n"
     ]
    }
   ],
   "source": [
    "#AVG Goals scored home/away by team across all seasons\n",
    "HomeGoals = df_all.groupby('HomeTeam')['FTHG'].mean()\n",
    "AwayGoals = df_all.groupby('AwayTeam')['FTAG'].mean()\n",
    "print('Home goals per game\\n', HomeGoals.nlargest(6),'\\n')\n",
    "print('Away goals per game\\n', AwayGoals.nlargest(6),'\\n')"
   ]
  },
  {
   "cell_type": "code",
   "execution_count": 33,
   "metadata": {},
   "outputs": [
    {
     "name": "stdout",
     "output_type": "stream",
     "text": [
      "Number of home wins:\n",
      " HomeTeam\n",
      "Man City      88\n",
      "Arsenal       80\n",
      "Chelsea       75\n",
      "Liverpool     75\n",
      "Tottenham     73\n",
      "Man United    68\n",
      "Name: FTR, dtype: int64 \n",
      "\n",
      "Number of away wins:\n",
      " AwayTeam\n",
      "Man City      69\n",
      "Chelsea       60\n",
      "Liverpool     58\n",
      "Tottenham     58\n",
      "Man United    52\n",
      "Arsenal       49\n",
      "Name: FTR, dtype: int64\n"
     ]
    }
   ],
   "source": [
    "# Total wins across all seasons \n",
    "HomeRecord = HomeWins.groupby('HomeTeam')['FTR'].count()\n",
    "AwayRecord = AwayWins.groupby('AwayTeam')['FTR'].count()\n",
    "\n",
    "print('Number of home wins:\\n',HomeRecord.nlargest(6),'\\n')\n",
    "print('Number of away wins:\\n',AwayRecord.nlargest(6))\n"
   ]
  },
  {
   "cell_type": "code",
   "execution_count": 34,
   "metadata": {},
   "outputs": [
    {
     "data": {
      "image/png": "[encoded data removed]",
      "text/plain": [
       "<Figure size 432x288 with 2 Axes>"
      ]
     },
     "metadata": {
      "needs_background": "light"
     },
     "output_type": "display_data"
    }
   ],
   "source": [
    "#plot of top teams home/away win record\n",
    "f, ax = plt.subplots(1,2)\n",
    "ax[0].plot(HomeRecord.nlargest(6));\n",
    "ax[1].plot(AwayRecord.nlargest(6));\n",
    "\n",
    "ax[0].set_title('Top 6 \\nNo. of home wins from\\n 2013/14 to 2018/19')\n",
    "ax[1].set_title('Top 6 \\nNo. of away wins from\\n 2013/14 to 2018/19')\n",
    "ax[0].set_xlabel('Team Name'),ax[1].set_xlabel('Team Name')\n",
    "ax[0].set_ylabel('Number of wins'),ax[1].set_ylabel('Number of wins')\n",
    "f.autofmt_xdate()\n",
    "plt.subplots_adjust(wspace=0.4);\n"
   ]
  },
  {
   "cell_type": "code",
   "execution_count": 35,
   "metadata": {},
   "outputs": [
    {
     "name": "stdout",
     "output_type": "stream",
     "text": [
      "Number of times each team scored more than 3 goals at home\n",
      "HomeTeam\n",
      "Man City       153.0\n",
      "Liverpool      126.0\n",
      "Tottenham       83.0\n",
      "Arsenal         73.0\n",
      "Chelsea         67.0\n",
      "Southampton     46.0\n",
      "Name: FTHG, dtype: float64\n"
     ]
    }
   ],
   "source": [
    "#Top 6 teams with most 4 or more home goal games.\n",
    "MoreThan3HGoals = df_all[df_all['FTHG']>3]\n",
    "print('Number of times each team scored more than 3 goals at home')\n",
    "print(MoreThan3HGoals.groupby('HomeTeam')['FTHG'].sum().nlargest(6))"
   ]
  },
  {
   "cell_type": "code",
   "execution_count": 36,
   "metadata": {},
   "outputs": [
    {
     "name": "stdout",
     "output_type": "stream",
     "text": [
      "Number of times each team scored more than 3 goals away from home\n",
      "AwayTeam\n",
      "Man City      73.0\n",
      "Liverpool     60.0\n",
      "Tottenham     52.0\n",
      "Chelsea       39.0\n",
      "Arsenal       36.0\n",
      "Man United    21.0\n",
      "Name: FTAG, dtype: float64\n"
     ]
    }
   ],
   "source": [
    "#Top 6 teams with most 4 or more home goal games.\n",
    "MoreThan3AGoals = df_all[df_all['FTAG']>3]\n",
    "print('Number of times each team scored more than 3 goals away from home')\n",
    "print(MoreThan3AGoals.groupby('AwayTeam')['FTAG'].sum().nlargest(6))\n"
   ]
  },
  {
   "cell_type": "code",
   "execution_count": null,
   "metadata": {},
   "outputs": [],
   "source": []
  }
 ],
 "metadata": {
  "kernelspec": {
   "display_name": "Python 3",
   "language": "python",
   "name": "python3"
  },
  "language_info": {
   "codemirror_mode": {
    "name": "ipython",
    "version": 3
   },
   "file_extension": ".py",
   "mimetype": "text/x-python",
   "name": "python",
   "nbconvert_exporter": "python",
   "pygments_lexer": "ipython3",
   "version": "3.7.1"
  }
 },
 "nbformat": 4,
 "nbformat_minor": 2
}
